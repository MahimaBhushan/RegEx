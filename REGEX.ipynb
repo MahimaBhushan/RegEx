{
 "cells": [
  {
   "cell_type": "code",
   "execution_count": 3,
   "metadata": {},
   "outputs": [],
   "source": [
    "import re\n"
   ]
  },
  {
   "cell_type": "code",
   "execution_count": 2,
   "metadata": {},
   "outputs": [
    {
     "name": "stdout",
     "output_type": "stream",
     "text": [
      "There is inform\n"
     ]
    }
   ],
   "source": [
    "#search a word in a string\n",
    "if re.search(\"inform\",\"we need to inform him with latest infomation\"):\n",
    "    print(\"There is inform\")"
   ]
  },
  {
   "cell_type": "code",
   "execution_count": 5,
   "metadata": {},
   "outputs": [
    {
     "name": "stdout",
     "output_type": "stream",
     "text": [
      "inform\n",
      "inform\n"
     ]
    }
   ],
   "source": [
    "allinform=re.findall(\"inform\",\"we need to inform him with latest information\")\n",
    "for i in allinform:\n",
    "    print(i)\n",
    "    "
   ]
  },
  {
   "cell_type": "code",
   "execution_count": 9,
   "metadata": {},
   "outputs": [
    {
     "name": "stdout",
     "output_type": "stream",
     "text": [
      "(11, 17)\n",
      "(34, 40)\n"
     ]
    }
   ],
   "source": [
    "#find starting and ending index of the matched word\n",
    "str=\"we need to inform him with latest information\"\n",
    "p=re.finditer(\"inform\",str)\n",
    "for i in p:\n",
    "    loctup=i.span()\n",
    "    print(loctup)"
   ]
  },
  {
   "cell_type": "code",
   "execution_count": 3,
   "metadata": {},
   "outputs": [
    {
     "name": "stdout",
     "output_type": "stream",
     "text": [
      "Sat\n",
      "hat\n",
      "mat\n",
      "pat\n"
     ]
    }
   ],
   "source": [
    "#Find words that start with [“s”, ”h”, ”m“ or  “p” ]and   have “at” after it\n",
    "\n",
    "str=\"Sat, hat, mat, pat\"\n",
    "allstr= re.findall(\"[Shmp]at\",str)\n",
    "for i in allstr:\n",
    "    print(i)"
   ]
  },
  {
   "cell_type": "code",
   "execution_count": 4,
   "metadata": {},
   "outputs": [
    {
     "name": "stdout",
     "output_type": "stream",
     "text": [
      "hat\n",
      "mat\n"
     ]
    }
   ],
   "source": [
    "#Find all words in which the first letter is between the range “h” to  “m” and should be ending with “at”\n",
    "\n",
    "str=\"Sat, hat, mat, pat\"\n",
    "allstr= re.findall(\"[h-m]at\",str)\n",
    "for i in allstr:\n",
    "    print(i)"
   ]
  },
  {
   "cell_type": "code",
   "execution_count": 5,
   "metadata": {},
   "outputs": [
    {
     "name": "stdout",
     "output_type": "stream",
     "text": [
      "Sat\n",
      "pat\n"
     ]
    }
   ],
   "source": [
    "#Find all words having letters, apart from the letter in between the range “h” to  “m” and should be ending with “at”\n",
    "\n",
    "str=\"Sat, hat, mat, pat\"\n",
    "allstr= re.findall(\"[^h-m]at\",str)\n",
    "for i in allstr:\n",
    "    print(i)"
   ]
  },
  {
   "cell_type": "code",
   "execution_count": 6,
   "metadata": {},
   "outputs": [
    {
     "name": "stdout",
     "output_type": "stream",
     "text": [
      "hat food mat pat\n"
     ]
    }
   ],
   "source": [
    "#Replace a particular string\n",
    "\n",
    "food=\"hat rat mat pat\"\n",
    "regex=re.compile(\"[r]at\")\n",
    "food=regex.sub(\"food\",food)\n",
    "print(food)"
   ]
  },
  {
   "cell_type": "code",
   "execution_count": 1,
   "metadata": {},
   "outputs": [
    {
     "name": "stdout",
     "output_type": "stream",
     "text": [
      "here is \\drogba\n"
     ]
    }
   ],
   "source": [
    "#backslash problem\n",
    "randstr=\"here is \\\\drogba\"\n",
    "print(randstr)"
   ]
  },
  {
   "cell_type": "code",
   "execution_count": 4,
   "metadata": {},
   "outputs": [
    {
     "name": "stdout",
     "output_type": "stream",
     "text": [
      "<re.Match object; span=(8, 15), match='\\\\drogba'>\n"
     ]
    }
   ],
   "source": [
    "print(re.search(r\"\\\\drogba\",randstr))"
   ]
  },
  {
   "cell_type": "code",
   "execution_count": 7,
   "metadata": {},
   "outputs": [
    {
     "name": "stdout",
     "output_type": "stream",
     "text": [
      "keep the blue flag\n",
      "flying high\n",
      "\n"
     ]
    }
   ],
   "source": [
    "#replaceing new line with space\n",
    "randstr='''keep the blue flag\n",
    "flying high\n",
    "'''\n",
    "print(randstr)"
   ]
  },
  {
   "cell_type": "code",
   "execution_count": 8,
   "metadata": {},
   "outputs": [
    {
     "name": "stdout",
     "output_type": "stream",
     "text": [
      "keep the blue flag flying high \n"
     ]
    }
   ],
   "source": [
    "regex=re.compile(\"\\n\")\n",
    "randstr=regex.sub(\" \",randstr)\n",
    "print(randstr)"
   ]
  },
  {
   "cell_type": "code",
   "execution_count": 5,
   "metadata": {},
   "outputs": [
    {
     "name": "stdout",
     "output_type": "stream",
     "text": [
      "Matches: 5\n"
     ]
    }
   ],
   "source": [
    "#Match a single character\n",
    "randstr=\"12345\"\n",
    "print(\"Matches:\", len(re.findall(\"\\d\", randstr)))"
   ]
  },
  {
   "cell_type": "code",
   "execution_count": 10,
   "metadata": {},
   "outputs": [
    {
     "name": "stdout",
     "output_type": "stream",
     "text": [
      "Matches: 3\n"
     ]
    }
   ],
   "source": [
    "#Match digits with certain range\n",
    "randstr=\"123 1234 12345 123456 1234567\"\n",
    "print(\"Matches:\", len(re.findall(\"\\d{5,7}\", randstr)))"
   ]
  },
  {
   "cell_type": "code",
   "execution_count": 12,
   "metadata": {},
   "outputs": [
    {
     "name": "stdout",
     "output_type": "stream",
     "text": [
      "it is a phone number\n"
     ]
    }
   ],
   "source": [
    "#verify the phone number\n",
    "phn=\"412-555-1212\"\n",
    "if re.search(\"\\w{3}-\\w{3}-\\w{4}\",phn):\n",
    "    print(\"it is a phone number\")"
   ]
  },
  {
   "cell_type": "code",
   "execution_count": 13,
   "metadata": {},
   "outputs": [
    {
     "name": "stdout",
     "output_type": "stream",
     "text": [
      "fullname is valid\n"
     ]
    }
   ],
   "source": [
    "#verify the full name\n",
    "if re.search(\"\\w{2,20}\\s\\w{2,20}\",\"Mahima Bhushan\"):\n",
    "    print(\"fullname is valid\")"
   ]
  },
  {
   "cell_type": "code",
   "execution_count": 14,
   "metadata": {},
   "outputs": [
    {
     "name": "stdout",
     "output_type": "stream",
     "text": [
      "Email Match 1\n"
     ]
    }
   ],
   "source": [
    "#match the email address\n",
    "email=\"sk@aol.com md@.com @seo.com dc@.com\"\n",
    "print(\"Email Match\", len(re.findall(\"[\\w._%+-]{1,20}@[\\w._]{2,20}.[A-Za-z]{2,3}\",email)))"
   ]
  },
  {
   "cell_type": "code",
   "execution_count": 21,
   "metadata": {},
   "outputs": [],
   "source": [
    "from re import findall\n",
    "import urllib.request\n",
    "url=\"https://www.summet.com/dmsi/html/codesamples/addresses.html\"\n",
    "response=urllib.request.urlopen(url)\n",
    "html=response.read()\n",
    "htmlstr=html.decode()\n",
    "pdata=findall(\"\\(\\d{3}\\)\\{3}-\\d{4}\",htmlstr)\n",
    "for item in pdata:\n",
    "    print(item)"
   ]
  },
  {
   "cell_type": "code",
   "execution_count": null,
   "metadata": {},
   "outputs": [],
   "source": []
  },
  {
   "cell_type": "code",
   "execution_count": null,
   "metadata": {},
   "outputs": [],
   "source": []
  }
 ],
 "metadata": {
  "kernelspec": {
   "display_name": "Python 3",
   "language": "python",
   "name": "python3"
  },
  "language_info": {
   "codemirror_mode": {
    "name": "ipython",
    "version": 3
   },
   "file_extension": ".py",
   "mimetype": "text/x-python",
   "name": "python",
   "nbconvert_exporter": "python",
   "pygments_lexer": "ipython3",
   "version": "3.8.5"
  }
 },
 "nbformat": 4,
 "nbformat_minor": 4
}
